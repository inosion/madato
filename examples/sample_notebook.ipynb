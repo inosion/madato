{
 "cells": [
  {
   "cell_type": "code",
   "execution_count": 1,
   "metadata": {},
   "outputs": [
    {
     "data": {
      "text/plain": [
       "[{'name': 'Rolling on the Floor Laughing',\n",
       "  'character': '🤣',\n",
       "  'unicode': 'U+1F923'},\n",
       " {'name': 'Face With Tears of Joy', 'character': '😂', 'unicode': 'U+1F602'},\n",
       " {'name': 'Slightly Smiling Face', 'character': '🙂', 'unicode': 'U+1F642'},\n",
       " {'name': 'Upside-Down Face', 'character': '🙃', 'unicode': 'U+1F643'},\n",
       " {'name': 'Smiling Face With Hearts', 'character': '🥰', 'unicode': 'U+1F970'},\n",
       " {'name': 'Smiling Face With Heart-Eyes',\n",
       "  'character': '😍',\n",
       "  'unicode': 'U+1F60D'},\n",
       " {'name': 'Star-Struck', 'character': '🤩', 'unicode': 'U+1F929'},\n",
       " {'name': 'Face Blowing a Kiss', 'character': '😘', 'unicode': 'U+1F618'},\n",
       " {'name': 'Kissing Face', 'character': '😗', 'unicode': 'U+1F617'},\n",
       " {'name': 'Smiling Face', 'character': '☺️', 'unicode': 'U+263A'},\n",
       " {'name': 'Kissing Face With Closed Eyes',\n",
       "  'character': '😚',\n",
       "  'unicode': 'U+1F61A'}]"
      ]
     },
     "metadata": {},
     "output_type": "display_data"
    }
   ],
   "source": [
    "import yaml\n",
    "from IPython.display import display, Markdown\n",
    "\n",
    "my_emoji_yaml = \"\"\"\n",
    "  - name: \"Rolling on the Floor Laughing\"\n",
    "    character: \"🤣\"\n",
    "    unicode: \"U+1F923\"\n",
    "  - name: \"Face With Tears of Joy\"\n",
    "    character: \"😂\"\n",
    "    unicode: \"U+1F602\"\n",
    "  - name: \"Slightly Smiling Face\"\n",
    "    character: \"🙂\"\n",
    "    unicode: \"U+1F642\"\n",
    "  - name: \"Upside-Down Face\"\n",
    "    character: \"🙃\"\n",
    "    unicode: \"U+1F643\"\n",
    "  - name: \"Smiling Face With Hearts\"\n",
    "    character: \"🥰\"\n",
    "    unicode: \"U+1F970\"\n",
    "  - name: \"Smiling Face With Heart-Eyes\"\n",
    "    character: \"😍\"\n",
    "    unicode: \"U+1F60D\"\n",
    "  - name: \"Star-Struck\"\n",
    "    character: \"🤩\"\n",
    "    unicode: \"U+1F929\"\n",
    "  - name: \"Face Blowing a Kiss\"\n",
    "    character: \"😘\"\n",
    "    unicode: \"U+1F618\"\n",
    "  - name: \"Kissing Face\"\n",
    "    character: \"😗\"\n",
    "    unicode: \"U+1F617\"\n",
    "  - name: \"Smiling Face\"\n",
    "    character: \"☺️\"\n",
    "    unicode: \"U+263A\"\n",
    "  - name: \"Kissing Face With Closed Eyes\"\n",
    "    character: \"😚\"\n",
    "    unicode: \"U+1F61A\"\n",
    "\"\"\"\n",
    "\n",
    "my_emoji = yaml.safe_load(my_emoji_yaml)\n",
    "display(my_emoji)\n"
   ]
  },
  {
   "cell_type": "code",
   "execution_count": 2,
   "metadata": {},
   "outputs": [
    {
     "data": {
      "text/markdown": [
       "|            name             |character|unicode|\n",
       "|-----------------------------|---------|-------|\n",
       "|Rolling on the Floor Laughing|    🤣    |U+1F923|\n",
       "|   Face With Tears of Joy    |    😂    |U+1F602|\n",
       "|    Slightly Smiling Face    |    🙂    |U+1F642|\n",
       "|      Upside-Down Face       |    🙃    |U+1F643|\n",
       "|  Smiling Face With Hearts   |    🥰    |U+1F970|\n",
       "|Smiling Face With Heart-Eyes |    😍    |U+1F60D|\n",
       "|         Star-Struck         |    🤩    |U+1F929|\n",
       "|     Face Blowing a Kiss     |    😘    |U+1F618|\n",
       "|        Kissing Face         |    😗    |U+1F617|\n",
       "|        Smiling Face         |   ☺️    |U+263A |\n",
       "|Kissing Face With Closed Eyes|    😚    |U+1F61A|"
      ],
      "text/plain": [
       "<IPython.core.display.Markdown object>"
      ]
     },
     "metadata": {},
     "output_type": "display_data"
    },
    {
     "name": "stdout",
     "output_type": "stream",
     "text": [
      "|            name             |character|unicode|\n",
      "|-----------------------------|---------|-------|\n",
      "|Rolling on the Floor Laughing|    🤣    |U+1F923|\n",
      "|   Face With Tears of Joy    |    😂    |U+1F602|\n",
      "|    Slightly Smiling Face    |    🙂    |U+1F642|\n",
      "|      Upside-Down Face       |    🙃    |U+1F643|\n",
      "|  Smiling Face With Hearts   |    🥰    |U+1F970|\n",
      "|Smiling Face With Heart-Eyes |    😍    |U+1F60D|\n",
      "|         Star-Struck         |    🤩    |U+1F929|\n",
      "|     Face Blowing a Kiss     |    😘    |U+1F618|\n",
      "|        Kissing Face         |    😗    |U+1F617|\n",
      "|        Smiling Face         |   ☺️    |U+263A |\n",
      "|Kissing Face With Closed Eyes|    😚    |U+1F61A|\n"
     ]
    }
   ],
   "source": [
    "import madato\n",
    "\n",
    "display(Markdown(madato.yaml_str_to_md(my_emoji_yaml)))\n",
    "print(madato.yaml_str_to_md(my_emoji_yaml))\n"
   ]
  },
  {
   "cell_type": "code",
   "execution_count": 3,
   "metadata": {},
   "outputs": [
    {
     "name": "stderr",
     "output_type": "stream",
     "text": [
      "thread '<unnamed>' panicked at src/cal/mod.rs:59:53:\n",
      "Cannot open file: Xlsx(Io(Os { code: 2, kind: NotFound, message: \"No such file or directory\" }))\n",
      "note: run with `RUST_BACKTRACE=1` environment variable to display a backtrace\n"
     ]
    },
    {
     "ename": "PanicException",
     "evalue": "Cannot open file: Xlsx(Io(Os { code: 2, kind: NotFound, message: \"No such file or directory\" }))",
     "output_type": "error",
     "traceback": [
      "\u001b[0;31m---------------------------------------------------------------------------\u001b[0m",
      "\u001b[0;31mPanicException\u001b[0m                            Traceback (most recent call last)",
      "\u001b[1;32m/home/rbuckland/projects/github.com/inosion/madato/examples/sample_notebook.ipynb Cell 3\u001b[0m line \u001b[0;36m3\n\u001b[1;32m      <a href='vscode-notebook-cell:/home/rbuckland/projects/github.com/inosion/madato/examples/sample_notebook.ipynb#W2sZmlsZQ%3D%3D?line=0'>1</a>\u001b[0m \u001b[39mfrom\u001b[39;00m \u001b[39mpathlib\u001b[39;00m \u001b[39mimport\u001b[39;00m Path\n\u001b[1;32m      <a href='vscode-notebook-cell:/home/rbuckland/projects/github.com/inosion/madato/examples/sample_notebook.ipynb#W2sZmlsZQ%3D%3D?line=1'>2</a>\u001b[0m my_sample_spreadsheet \u001b[39m=\u001b[39m Path(\u001b[39m\"\u001b[39m\u001b[39m../../test/Financial Sample.xlsx\u001b[39m\u001b[39m\"\u001b[39m)\n\u001b[0;32m----> <a href='vscode-notebook-cell:/home/rbuckland/projects/github.com/inosion/madato/examples/sample_notebook.ipynb#W2sZmlsZQ%3D%3D?line=2'>3</a>\u001b[0m display(Markdown(madato\u001b[39m.\u001b[39;49mspreadsheet_to_md(\u001b[39mstr\u001b[39;49m(my_sample_spreadsheet))))\n",
      "\u001b[0;31mPanicException\u001b[0m: Cannot open file: Xlsx(Io(Os { code: 2, kind: NotFound, message: \"No such file or directory\" }))"
     ]
    }
   ],
   "source": [
    "from pathlib import Path\n",
    "my_sample_spreadsheet = Path(\"../test/Financial Sample.xlsx\")\n",
    "display(Markdown(madato.spreadsheet_to_md(str(my_sample_spreadsheet))))\n"
   ]
  }
 ],
 "metadata": {
  "kernelspec": {
   "display_name": ".venv",
   "language": "python",
   "name": "python3"
  },
  "language_info": {
   "codemirror_mode": {
    "name": "ipython",
    "version": 3
   },
   "file_extension": ".py",
   "mimetype": "text/x-python",
   "name": "python",
   "nbconvert_exporter": "python",
   "pygments_lexer": "ipython3",
   "version": "3.11.3"
  }
 },
 "nbformat": 4,
 "nbformat_minor": 2
}
